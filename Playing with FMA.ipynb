{
 "cells": [
  {
   "cell_type": "code",
   "execution_count": 1,
   "id": "491faf2a",
   "metadata": {},
   "outputs": [
    {
     "name": "stderr",
     "output_type": "stream",
     "text": [
      "* Owlready2 * Warning: optimized Cython parser module 'owlready2_optimized' is not available, defaulting to slower Python implementation\n"
     ]
    }
   ],
   "source": [
    "from owlready2 import *\n",
    "from pathlib import Path, PureWindowsPath\n",
    "from pyvis.network import Network"
   ]
  },
  {
   "cell_type": "code",
   "execution_count": 2,
   "id": "3e79b441",
   "metadata": {},
   "outputs": [
    {
     "name": "stdout",
     "output_type": "stream",
     "text": [
      ".\n"
     ]
    }
   ],
   "source": [
    "path_to_ontology = PureWindowsPath('.')\n",
    "print(path_to_ontology)\n",
    "onto_path.append(path_to_ontology)\n",
    "default_world.set_backend(filename = \"fma.sqlite3\")\n",
    "onto = get_ontology('http://sig.biostr.washington.edu/share/downloads/fma/release/latest/fma.owl').load()"
   ]
  },
  {
   "cell_type": "code",
   "execution_count": 3,
   "id": "8ed833d5",
   "metadata": {},
   "outputs": [
    {
     "data": {
      "text/plain": [
       "'http://purl.org/sig/ont/fma.owl#'"
      ]
     },
     "execution_count": 3,
     "metadata": {},
     "output_type": "execute_result"
    }
   ],
   "source": [
    "onto.base_iri"
   ]
  },
  {
   "cell_type": "code",
   "execution_count": 4,
   "id": "116458e7",
   "metadata": {},
   "outputs": [
    {
     "name": "stdout",
     "output_type": "stream",
     "text": [
      "http://purl.org/sig/ont/fma/fma5731 ['Left vagus nerve'] ['Right vagus', 'Right vagus nerve tree']\n"
     ]
    }
   ],
   "source": [
    "fma = get_namespace('http://purl.org/sig/ont/fma/')\n",
    "vagus = fma.fma5731\n",
    "left_vagus = fma.fma6220\n",
    "right_vagus = fma.fma6219\n",
    "print(vagus.iri, left_vagus.label, right_vagus.synonym)"
   ]
  },
  {
   "cell_type": "code",
   "execution_count": 5,
   "id": "345f2e71",
   "metadata": {},
   "outputs": [
    {
     "data": {
      "text/plain": [
       "[[106738]]"
      ]
     },
     "execution_count": 5,
     "metadata": {},
     "output_type": "execute_result"
    }
   ],
   "source": [
    "# Use SPARQL to count number of owl:class'es in the ontology.\n",
    "list(default_world.sparql(\"\"\"\n",
    "           SELECT (COUNT(?x) AS ?nb)\n",
    "           { ?x a owl:Class . }\n",
    "    \"\"\"))"
   ]
  },
  {
   "cell_type": "code",
   "execution_count": 6,
   "id": "a3771609",
   "metadata": {},
   "outputs": [],
   "source": [
    "# Find all sub-classes of the vagus\n",
    "def getSubClasses(base):\n",
    "    res = list(default_world.sparql(\"\"\"SELECT ?x { ?x rdfs:subClassOf ?? . }\"\"\", [base]))\n",
    "    return res"
   ]
  },
  {
   "cell_type": "code",
   "execution_count": 7,
   "id": "d78b9a07",
   "metadata": {},
   "outputs": [],
   "source": [
    "def printLabels(classes):\n",
    "    for c in classes:\n",
    "        print(c[0].label)"
   ]
  },
  {
   "cell_type": "code",
   "execution_count": 8,
   "id": "c379622b",
   "metadata": {},
   "outputs": [
    {
     "name": "stdout",
     "output_type": "stream",
     "text": [
      "['Right vagus nerve']\n",
      "['Left vagus nerve']\n"
     ]
    }
   ],
   "source": [
    "printLabels(getSubClasses(vagus))"
   ]
  },
  {
   "cell_type": "code",
   "execution_count": 9,
   "id": "0a4e554c",
   "metadata": {},
   "outputs": [],
   "source": [
    "def getBranches(root):\n",
    "    branches = list(default_world.sparql(\"\"\"\n",
    "    SELECT ?x {\n",
    "        ?x rdfs:subClassOf [a owl:Restriction ;\n",
    "                            owl:onProperty <http://purl.org/sig/ont/fma/branch_of> ;\n",
    "                            owl:someValuesFrom ??] .\n",
    "    }\n",
    "    \"\"\", [root]))\n",
    "    return branches\n",
    "\n",
    "def listBranches(root):\n",
    "    branches = getBranches(root)\n",
    "    printLabels(branches)"
   ]
  },
  {
   "cell_type": "code",
   "execution_count": 10,
   "id": "e9013efe",
   "metadata": {},
   "outputs": [
    {
     "name": "stdout",
     "output_type": "stream",
     "text": [
      "Vagus branches:\n",
      "['Recurrent laryngeal nerve']\n",
      "['Inferior cervical cardiac branch of vagus nerve']\n",
      "['Superior cervical cardiac branch of vagus nerve']\n",
      "['Superior laryngeal nerve']\n",
      "['Branch of vagus nerve to carotid body']\n",
      "['Pharyngeal branch of vagus nerve']\n",
      "['Communicating branch of vagus nerve with glossopharyngeal nerve']\n",
      "['Auricular branch of vagus nerve']\n",
      "['Meningeal branch of vagus nerve']\n",
      "['Posterior vagal trunk']\n",
      "['Anterior vagal trunk']\n",
      "\n",
      "Left vagus branches:\n",
      "['Esophageal branch of posterior vagal trunk']\n",
      "['Inferior cervical cardiac branch of left vagus nerve to superficial cardiac plexus']\n",
      "['Pulmonary branch of left vagus nerve']\n",
      "['Renal branch of left vagus']\n",
      "['Pharyngeal branch of left vagus nerve to pharyngeal nerve plexus']\n",
      "['Lingual branch of left vagus nerve']\n",
      "['Vagal branch to left carotid body']\n",
      "['Thoracic cardiac branch of left vagus nerve']\n",
      "['Superior cervical cardiac branch of left vagus nerve']\n",
      "['Communicating branch of left vagus nerve with left glossopharyngeal nerve']\n",
      "['Bronchial branch of left vagus nerve']\n",
      "['Meningeal branch of left vagus nerve']\n",
      "['Left superior laryngeal nerve']\n",
      "['Auricular branch of left vagus nerve']\n",
      "['Left recurrent laryngeal nerve']\n",
      "\n",
      "Right vagus branches:\n",
      "['Esophageal branch of anterior vagal trunk']\n",
      "['Inferior cervical cardiac branch of right vagus nerve to deep cardiac plexus']\n",
      "['Cardiac branch of right vagus to deep cardiac plexus']\n",
      "['Pulmonary branch of right vagus nerve']\n",
      "['Renal branch of right vagus']\n",
      "['Pharyngeal branch of right vagus nerve to pharyngeal nerve plexus']\n",
      "['Lingual branch of right vagus nerve']\n",
      "['Bronchial branch of right vagus nerve']\n",
      "['Vagal branch to right carotid body']\n",
      "['Thoracic cardiac branch of right vagus nerve']\n",
      "['Superior cervical cardiac branch of right vagus nerve']\n",
      "['Communicating branch of right vagus nerve with right glossopharyngeal nerve']\n",
      "['Meningeal branch of right vagus nerve']\n",
      "['Auricular branch of right vagus nerve']\n",
      "['Right superior laryngeal nerve']\n",
      "['Right recurrent laryngeal nerve']\n"
     ]
    }
   ],
   "source": [
    "print('Vagus branches:')\n",
    "listBranches(vagus)\n",
    "print('\\nLeft vagus branches:')\n",
    "listBranches(left_vagus)\n",
    "print('\\nRight vagus branches:')\n",
    "listBranches(right_vagus)"
   ]
  },
  {
   "cell_type": "code",
   "execution_count": 11,
   "id": "461d67e1",
   "metadata": {},
   "outputs": [],
   "source": [
    "def buildBranchGraph(root, g):\n",
    "    branches = getBranches(root)\n",
    "    for b in branches:\n",
    "        node = b[0]\n",
    "        g.add_node(node.iri, label=f\"fma:{node.FMAID[0]}\", title=node.label[0])\n",
    "        g.add_edge(root.iri, node.iri)\n",
    "        buildBranchGraph(node, g)\n",
    "        \n",
    "graph = Network(notebook=True, cdn_resources='remote')\n",
    "graph.add_node(vagus.iri, label=vagus.label[0], title=vagus.iri)\n",
    "graph.add_node(left_vagus.iri, label=left_vagus.label[0], title=left_vagus.iri)\n",
    "graph.add_node(right_vagus.iri, label=right_vagus.label[0], title=right_vagus.iri)\n",
    "graph.add_edge(vagus.iri, left_vagus.iri)\n",
    "graph.add_edge(vagus.iri, right_vagus.iri)\n",
    "buildBranchGraph(left_vagus, graph)\n",
    "buildBranchGraph(right_vagus, graph)"
   ]
  },
  {
   "cell_type": "code",
   "execution_count": 12,
   "id": "aebdca3c",
   "metadata": {},
   "outputs": [
    {
     "name": "stdout",
     "output_type": "stream",
     "text": [
      "vagus_combined.html\n"
     ]
    },
    {
     "data": {
      "text/html": [
       "\n",
       "        <iframe\n",
       "            width=\"100%\"\n",
       "            height=\"600px\"\n",
       "            src=\"vagus_combined.html\"\n",
       "            frameborder=\"0\"\n",
       "            allowfullscreen\n",
       "            \n",
       "        ></iframe>\n",
       "        "
      ],
      "text/plain": [
       "<IPython.lib.display.IFrame at 0x2846503d910>"
      ]
     },
     "execution_count": 12,
     "metadata": {},
     "output_type": "execute_result"
    }
   ],
   "source": [
    "graph.show('vagus_combined.html')"
   ]
  },
  {
   "cell_type": "code",
   "execution_count": 13,
   "id": "f635f6a7",
   "metadata": {},
   "outputs": [
    {
     "name": "stdout",
     "output_type": "stream",
     "text": [
      "vagus.html\n"
     ]
    },
    {
     "data": {
      "text/html": [
       "\n",
       "        <iframe\n",
       "            width=\"100%\"\n",
       "            height=\"600px\"\n",
       "            src=\"vagus.html\"\n",
       "            frameborder=\"0\"\n",
       "            allowfullscreen\n",
       "            \n",
       "        ></iframe>\n",
       "        "
      ],
      "text/plain": [
       "<IPython.lib.display.IFrame at 0x28465054130>"
      ]
     },
     "execution_count": 13,
     "metadata": {},
     "output_type": "execute_result"
    }
   ],
   "source": [
    "vagus_graph = Network(notebook=True, cdn_resources='remote')\n",
    "vagus_graph.add_node(vagus.iri, label=vagus.label[0], title=vagus.iri)\n",
    "buildBranchGraph(vagus, vagus_graph)\n",
    "vagus_graph.show('vagus.html')"
   ]
  },
  {
   "cell_type": "code",
   "execution_count": null,
   "id": "65c6f97e",
   "metadata": {},
   "outputs": [],
   "source": []
  }
 ],
 "metadata": {
  "kernelspec": {
   "display_name": "Python 3 (ipykernel)",
   "language": "python",
   "name": "python3"
  },
  "language_info": {
   "codemirror_mode": {
    "name": "ipython",
    "version": 3
   },
   "file_extension": ".py",
   "mimetype": "text/x-python",
   "name": "python",
   "nbconvert_exporter": "python",
   "pygments_lexer": "ipython3",
   "version": "3.9.4"
  }
 },
 "nbformat": 4,
 "nbformat_minor": 5
}
